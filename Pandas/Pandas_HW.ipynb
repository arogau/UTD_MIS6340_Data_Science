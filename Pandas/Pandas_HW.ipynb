{
 "cells": [
  {
   "cell_type": "markdown",
   "metadata": {},
   "source": [
    "### Import the appropriate modules "
   ]
  },
  {
   "cell_type": "code",
   "execution_count": 1,
   "metadata": {
    "collapsed": true
   },
   "outputs": [],
   "source": [
    "import pandas as pd\n",
    "import numpy as np\n",
    "import matplotlib.pyplot as plt\n",
    "import re\n",
    "import seaborn as sns"
   ]
  },
  {
   "cell_type": "markdown",
   "metadata": {},
   "source": [
    "### Load in the Data as a Pandas Data Frame"
   ]
  },
  {
   "cell_type": "code",
   "execution_count": 2,
   "metadata": {
    "scrolled": true
   },
   "outputs": [
    {
     "data": {
      "text/html": [
       "<div>\n",
       "<style>\n",
       "    .dataframe thead tr:only-child th {\n",
       "        text-align: right;\n",
       "    }\n",
       "\n",
       "    .dataframe thead th {\n",
       "        text-align: left;\n",
       "    }\n",
       "\n",
       "    .dataframe tbody tr th {\n",
       "        vertical-align: top;\n",
       "    }\n",
       "</style>\n",
       "<table border=\"1\" class=\"dataframe\">\n",
       "  <thead>\n",
       "    <tr style=\"text-align: right;\">\n",
       "      <th></th>\n",
       "      <th>playerID</th>\n",
       "      <th>nameLast</th>\n",
       "      <th>nameFirst</th>\n",
       "      <th>birthYear</th>\n",
       "      <th>yearID</th>\n",
       "      <th>stint</th>\n",
       "      <th>teamID</th>\n",
       "      <th>lgID</th>\n",
       "      <th>G</th>\n",
       "      <th>AB</th>\n",
       "      <th>...</th>\n",
       "      <th>RBI</th>\n",
       "      <th>SB</th>\n",
       "      <th>CS</th>\n",
       "      <th>BB</th>\n",
       "      <th>SO</th>\n",
       "      <th>IBB</th>\n",
       "      <th>HBP</th>\n",
       "      <th>SH</th>\n",
       "      <th>SF</th>\n",
       "      <th>GIDP</th>\n",
       "    </tr>\n",
       "  </thead>\n",
       "  <tbody>\n",
       "    <tr>\n",
       "      <th>0</th>\n",
       "      <td>abercda01</td>\n",
       "      <td>Frank</td>\n",
       "      <td>Abercrombie</td>\n",
       "      <td>1850</td>\n",
       "      <td>1871</td>\n",
       "      <td>1</td>\n",
       "      <td>TRO</td>\n",
       "      <td>NaN</td>\n",
       "      <td>1</td>\n",
       "      <td>4</td>\n",
       "      <td>...</td>\n",
       "      <td>0.0</td>\n",
       "      <td>0.0</td>\n",
       "      <td>0.0</td>\n",
       "      <td>0</td>\n",
       "      <td>0.0</td>\n",
       "      <td>NaN</td>\n",
       "      <td>NaN</td>\n",
       "      <td>NaN</td>\n",
       "      <td>NaN</td>\n",
       "      <td>NaN</td>\n",
       "    </tr>\n",
       "    <tr>\n",
       "      <th>1</th>\n",
       "      <td>addybo01</td>\n",
       "      <td>Bob</td>\n",
       "      <td>Addy</td>\n",
       "      <td>1842</td>\n",
       "      <td>1871</td>\n",
       "      <td>1</td>\n",
       "      <td>RC1</td>\n",
       "      <td>NaN</td>\n",
       "      <td>25</td>\n",
       "      <td>118</td>\n",
       "      <td>...</td>\n",
       "      <td>13.0</td>\n",
       "      <td>8.0</td>\n",
       "      <td>1.0</td>\n",
       "      <td>4</td>\n",
       "      <td>0.0</td>\n",
       "      <td>NaN</td>\n",
       "      <td>NaN</td>\n",
       "      <td>NaN</td>\n",
       "      <td>NaN</td>\n",
       "      <td>NaN</td>\n",
       "    </tr>\n",
       "    <tr>\n",
       "      <th>2</th>\n",
       "      <td>allisar01</td>\n",
       "      <td>Art</td>\n",
       "      <td>Allison</td>\n",
       "      <td>1849</td>\n",
       "      <td>1871</td>\n",
       "      <td>1</td>\n",
       "      <td>CL1</td>\n",
       "      <td>NaN</td>\n",
       "      <td>29</td>\n",
       "      <td>137</td>\n",
       "      <td>...</td>\n",
       "      <td>19.0</td>\n",
       "      <td>3.0</td>\n",
       "      <td>1.0</td>\n",
       "      <td>2</td>\n",
       "      <td>5.0</td>\n",
       "      <td>NaN</td>\n",
       "      <td>NaN</td>\n",
       "      <td>NaN</td>\n",
       "      <td>NaN</td>\n",
       "      <td>NaN</td>\n",
       "    </tr>\n",
       "    <tr>\n",
       "      <th>3</th>\n",
       "      <td>allisdo01</td>\n",
       "      <td>Doug</td>\n",
       "      <td>Allison</td>\n",
       "      <td>1846</td>\n",
       "      <td>1871</td>\n",
       "      <td>1</td>\n",
       "      <td>WS3</td>\n",
       "      <td>NaN</td>\n",
       "      <td>27</td>\n",
       "      <td>133</td>\n",
       "      <td>...</td>\n",
       "      <td>27.0</td>\n",
       "      <td>1.0</td>\n",
       "      <td>1.0</td>\n",
       "      <td>0</td>\n",
       "      <td>2.0</td>\n",
       "      <td>NaN</td>\n",
       "      <td>NaN</td>\n",
       "      <td>NaN</td>\n",
       "      <td>NaN</td>\n",
       "      <td>NaN</td>\n",
       "    </tr>\n",
       "    <tr>\n",
       "      <th>4</th>\n",
       "      <td>ansonca01</td>\n",
       "      <td>Cap</td>\n",
       "      <td>Anson</td>\n",
       "      <td>1852</td>\n",
       "      <td>1871</td>\n",
       "      <td>1</td>\n",
       "      <td>RC1</td>\n",
       "      <td>NaN</td>\n",
       "      <td>25</td>\n",
       "      <td>120</td>\n",
       "      <td>...</td>\n",
       "      <td>16.0</td>\n",
       "      <td>6.0</td>\n",
       "      <td>2.0</td>\n",
       "      <td>2</td>\n",
       "      <td>1.0</td>\n",
       "      <td>NaN</td>\n",
       "      <td>NaN</td>\n",
       "      <td>NaN</td>\n",
       "      <td>NaN</td>\n",
       "      <td>NaN</td>\n",
       "    </tr>\n",
       "  </tbody>\n",
       "</table>\n",
       "<p>5 rows × 25 columns</p>\n",
       "</div>"
      ],
      "text/plain": [
       "    playerID nameLast    nameFirst  birthYear  yearID  stint teamID lgID   G  \\\n",
       "0  abercda01    Frank  Abercrombie       1850    1871      1    TRO  NaN   1   \n",
       "1   addybo01      Bob         Addy       1842    1871      1    RC1  NaN  25   \n",
       "2  allisar01      Art      Allison       1849    1871      1    CL1  NaN  29   \n",
       "3  allisdo01     Doug      Allison       1846    1871      1    WS3  NaN  27   \n",
       "4  ansonca01      Cap        Anson       1852    1871      1    RC1  NaN  25   \n",
       "\n",
       "    AB  ...    RBI   SB   CS  BB   SO  IBB  HBP  SH  SF  GIDP  \n",
       "0    4  ...    0.0  0.0  0.0   0  0.0  NaN  NaN NaN NaN   NaN  \n",
       "1  118  ...   13.0  8.0  1.0   4  0.0  NaN  NaN NaN NaN   NaN  \n",
       "2  137  ...   19.0  3.0  1.0   2  5.0  NaN  NaN NaN NaN   NaN  \n",
       "3  133  ...   27.0  1.0  1.0   0  2.0  NaN  NaN NaN NaN   NaN  \n",
       "4  120  ...   16.0  6.0  2.0   2  1.0  NaN  NaN NaN NaN   NaN  \n",
       "\n",
       "[5 rows x 25 columns]"
      ]
     },
     "execution_count": 2,
     "metadata": {},
     "output_type": "execute_result"
    }
   ],
   "source": [
    "batting = pd.read_csv('Batting.csv', engine='python')\n",
    "batting.head()"
   ]
  },
  {
   "cell_type": "markdown",
   "metadata": {},
   "source": [
    "### What are the dimensions of the data?"
   ]
  },
  {
   "cell_type": "code",
   "execution_count": 5,
   "metadata": {},
   "outputs": [
    {
     "data": {
      "text/plain": [
       "(102816, 25)"
      ]
     },
     "execution_count": 5,
     "metadata": {},
     "output_type": "execute_result"
    }
   ],
   "source": [
    "batting.shape"
   ]
  },
  {
   "cell_type": "markdown",
   "metadata": {},
   "source": [
    "### Add a column to the data frame that combines nameLast and nameFirst, entitle this playerName.  \n",
    "### You will be using this column extensively"
   ]
  },
  {
   "cell_type": "code",
   "execution_count": 6,
   "metadata": {
    "collapsed": true
   },
   "outputs": [],
   "source": [
    "batting['playerName'] = batting['nameFirst'] +' '+ batting['nameLast']"
   ]
  },
  {
   "cell_type": "markdown",
   "metadata": {},
   "source": [
    "### How many players appeared in 1880?  Required: Count of players"
   ]
  },
  {
   "cell_type": "code",
   "execution_count": 7,
   "metadata": {},
   "outputs": [
    {
     "data": {
      "text/plain": [
       "127"
      ]
     },
     "execution_count": 7,
     "metadata": {},
     "output_type": "execute_result"
    }
   ],
   "source": [
    "batting[batting['yearID'] == 1880]['playerID'].nunique()"
   ]
  },
  {
   "cell_type": "markdown",
   "metadata": {},
   "source": [
    "### Which five years had the most players appear? Required: Year and count of players"
   ]
  },
  {
   "cell_type": "code",
   "execution_count": 8,
   "metadata": {},
   "outputs": [
    {
     "data": {
      "text/html": [
       "<div>\n",
       "<style>\n",
       "    .dataframe thead tr:only-child th {\n",
       "        text-align: right;\n",
       "    }\n",
       "\n",
       "    .dataframe thead th {\n",
       "        text-align: left;\n",
       "    }\n",
       "\n",
       "    .dataframe tbody tr th {\n",
       "        vertical-align: top;\n",
       "    }\n",
       "</style>\n",
       "<table border=\"1\" class=\"dataframe\">\n",
       "  <thead>\n",
       "    <tr style=\"text-align: right;\">\n",
       "      <th></th>\n",
       "      <th>nunique</th>\n",
       "    </tr>\n",
       "    <tr>\n",
       "      <th>yearID</th>\n",
       "      <th></th>\n",
       "    </tr>\n",
       "  </thead>\n",
       "  <tbody>\n",
       "    <tr>\n",
       "      <th>2016</th>\n",
       "      <td>1353</td>\n",
       "    </tr>\n",
       "    <tr>\n",
       "      <th>2015</th>\n",
       "      <td>1348</td>\n",
       "    </tr>\n",
       "    <tr>\n",
       "      <th>2014</th>\n",
       "      <td>1320</td>\n",
       "    </tr>\n",
       "    <tr>\n",
       "      <th>2013</th>\n",
       "      <td>1304</td>\n",
       "    </tr>\n",
       "    <tr>\n",
       "      <th>2011</th>\n",
       "      <td>1295</td>\n",
       "    </tr>\n",
       "  </tbody>\n",
       "</table>\n",
       "</div>"
      ],
      "text/plain": [
       "        nunique\n",
       "yearID         \n",
       "2016       1353\n",
       "2015       1348\n",
       "2014       1320\n",
       "2013       1304\n",
       "2011       1295"
      ]
     },
     "execution_count": 8,
     "metadata": {},
     "output_type": "execute_result"
    }
   ],
   "source": [
    "batting.groupby('yearID')['playerID'].aggregate(['nunique']).nlargest(5,'nunique')"
   ]
  },
  {
   "cell_type": "markdown",
   "metadata": {},
   "source": [
    "### How many players had over 500 or more ABs?  Required: Count of players"
   ]
  },
  {
   "cell_type": "code",
   "execution_count": 9,
   "metadata": {},
   "outputs": [
    {
     "data": {
      "text/plain": [
       "5152"
      ]
     },
     "execution_count": 9,
     "metadata": {},
     "output_type": "execute_result"
    }
   ],
   "source": [
    "sum(batting.groupby('playerID')['AB'].sum()>=500)"
   ]
  },
  {
   "cell_type": "markdown",
   "metadata": {},
   "source": [
    "### Which player had the most HRs in 1909?  Required: Player and HR total"
   ]
  },
  {
   "cell_type": "code",
   "execution_count": 10,
   "metadata": {},
   "outputs": [
    {
     "data": {
      "text/plain": [
       "playerName\n",
       "Cobb Ty    9\n",
       "Name: HR, dtype: int64"
      ]
     },
     "execution_count": 10,
     "metadata": {},
     "output_type": "execute_result"
    }
   ],
   "source": [
    "maxim = batting[(batting['yearID']==1909)].groupby('playerID')['HR'].sum().max()\n",
    "batting[(batting['yearID']==1909)&(batting['HR']==maxim)].set_index('playerName')['HR']"
   ]
  },
  {
   "cell_type": "markdown",
   "metadata": {},
   "source": [
    "### How many players have had more than 200 hits, 20 2Bs, 5 3Bs, and 20 HRs in a season? \n",
    "### Required: Player, H, 2B, 3B, HR"
   ]
  },
  {
   "cell_type": "code",
   "execution_count": 11,
   "metadata": {
    "scrolled": true
   },
   "outputs": [
    {
     "name": "stdout",
     "output_type": "stream",
     "text": [
      "Count of such players is: 445 and the stats are as below\n"
     ]
    },
    {
     "data": {
      "text/html": [
       "<div>\n",
       "<style>\n",
       "    .dataframe thead tr:only-child th {\n",
       "        text-align: right;\n",
       "    }\n",
       "\n",
       "    .dataframe thead th {\n",
       "        text-align: left;\n",
       "    }\n",
       "\n",
       "    .dataframe tbody tr th {\n",
       "        vertical-align: top;\n",
       "    }\n",
       "</style>\n",
       "<table border=\"1\" class=\"dataframe\">\n",
       "  <thead>\n",
       "    <tr style=\"text-align: right;\">\n",
       "      <th></th>\n",
       "      <th>H</th>\n",
       "      <th>2B</th>\n",
       "      <th>3B</th>\n",
       "      <th>HR</th>\n",
       "    </tr>\n",
       "    <tr>\n",
       "      <th>playerName</th>\n",
       "      <th></th>\n",
       "      <th></th>\n",
       "      <th></th>\n",
       "      <th></th>\n",
       "    </tr>\n",
       "  </thead>\n",
       "  <tbody>\n",
       "    <tr>\n",
       "      <th>Browning Pete</th>\n",
       "      <td>220</td>\n",
       "      <td>35</td>\n",
       "      <td>16</td>\n",
       "      <td>4</td>\n",
       "    </tr>\n",
       "    <tr>\n",
       "      <th>Lyons Denny</th>\n",
       "      <td>209</td>\n",
       "      <td>43</td>\n",
       "      <td>14</td>\n",
       "      <td>6</td>\n",
       "    </tr>\n",
       "    <tr>\n",
       "      <th>O'Neill Tip</th>\n",
       "      <td>225</td>\n",
       "      <td>52</td>\n",
       "      <td>19</td>\n",
       "      <td>14</td>\n",
       "    </tr>\n",
       "    <tr>\n",
       "      <th>Thompson Sam</th>\n",
       "      <td>203</td>\n",
       "      <td>29</td>\n",
       "      <td>23</td>\n",
       "      <td>11</td>\n",
       "    </tr>\n",
       "    <tr>\n",
       "      <th>Glasscock Jack</th>\n",
       "      <td>205</td>\n",
       "      <td>40</td>\n",
       "      <td>3</td>\n",
       "      <td>7</td>\n",
       "    </tr>\n",
       "    <tr>\n",
       "      <th>Delahanty Ed</th>\n",
       "      <td>219</td>\n",
       "      <td>35</td>\n",
       "      <td>18</td>\n",
       "      <td>19</td>\n",
       "    </tr>\n",
       "    <tr>\n",
       "      <th>Duffy Hugh</th>\n",
       "      <td>203</td>\n",
       "      <td>23</td>\n",
       "      <td>7</td>\n",
       "      <td>6</td>\n",
       "    </tr>\n",
       "    <tr>\n",
       "      <th>Thompson Sam</th>\n",
       "      <td>222</td>\n",
       "      <td>37</td>\n",
       "      <td>13</td>\n",
       "      <td>11</td>\n",
       "    </tr>\n",
       "    <tr>\n",
       "      <th>Brodie Steve</th>\n",
       "      <td>210</td>\n",
       "      <td>25</td>\n",
       "      <td>11</td>\n",
       "      <td>3</td>\n",
       "    </tr>\n",
       "    <tr>\n",
       "      <th>Cross Lave</th>\n",
       "      <td>204</td>\n",
       "      <td>34</td>\n",
       "      <td>9</td>\n",
       "      <td>7</td>\n",
       "    </tr>\n",
       "    <tr>\n",
       "      <th>Duffy Hugh</th>\n",
       "      <td>237</td>\n",
       "      <td>51</td>\n",
       "      <td>16</td>\n",
       "      <td>18</td>\n",
       "    </tr>\n",
       "    <tr>\n",
       "      <th>Hamilton Billy</th>\n",
       "      <td>220</td>\n",
       "      <td>25</td>\n",
       "      <td>15</td>\n",
       "      <td>4</td>\n",
       "    </tr>\n",
       "    <tr>\n",
       "      <th>Keeler Willie</th>\n",
       "      <td>219</td>\n",
       "      <td>27</td>\n",
       "      <td>22</td>\n",
       "      <td>5</td>\n",
       "    </tr>\n",
       "    <tr>\n",
       "      <th>Lowe Bobby</th>\n",
       "      <td>212</td>\n",
       "      <td>34</td>\n",
       "      <td>11</td>\n",
       "      <td>17</td>\n",
       "    </tr>\n",
       "    <tr>\n",
       "      <th>Burkett Jesse</th>\n",
       "      <td>225</td>\n",
       "      <td>22</td>\n",
       "      <td>13</td>\n",
       "      <td>5</td>\n",
       "    </tr>\n",
       "    <tr>\n",
       "      <th>Hamilton Billy</th>\n",
       "      <td>201</td>\n",
       "      <td>22</td>\n",
       "      <td>6</td>\n",
       "      <td>7</td>\n",
       "    </tr>\n",
       "    <tr>\n",
       "      <th>Jennings Hughie</th>\n",
       "      <td>204</td>\n",
       "      <td>41</td>\n",
       "      <td>7</td>\n",
       "      <td>4</td>\n",
       "    </tr>\n",
       "    <tr>\n",
       "      <th>Keeler Willie</th>\n",
       "      <td>213</td>\n",
       "      <td>24</td>\n",
       "      <td>15</td>\n",
       "      <td>4</td>\n",
       "    </tr>\n",
       "    <tr>\n",
       "      <th>Thompson Sam</th>\n",
       "      <td>211</td>\n",
       "      <td>45</td>\n",
       "      <td>21</td>\n",
       "      <td>18</td>\n",
       "    </tr>\n",
       "    <tr>\n",
       "      <th>Burkett Jesse</th>\n",
       "      <td>240</td>\n",
       "      <td>27</td>\n",
       "      <td>16</td>\n",
       "      <td>6</td>\n",
       "    </tr>\n",
       "    <tr>\n",
       "      <th>Jennings Hughie</th>\n",
       "      <td>209</td>\n",
       "      <td>27</td>\n",
       "      <td>9</td>\n",
       "      <td>0</td>\n",
       "    </tr>\n",
       "    <tr>\n",
       "      <th>Keeler Willie</th>\n",
       "      <td>210</td>\n",
       "      <td>22</td>\n",
       "      <td>13</td>\n",
       "      <td>4</td>\n",
       "    </tr>\n",
       "    <tr>\n",
       "      <th>Clarke Fred</th>\n",
       "      <td>202</td>\n",
       "      <td>30</td>\n",
       "      <td>13</td>\n",
       "      <td>6</td>\n",
       "    </tr>\n",
       "    <tr>\n",
       "      <th>Keeler Willie</th>\n",
       "      <td>239</td>\n",
       "      <td>27</td>\n",
       "      <td>19</td>\n",
       "      <td>0</td>\n",
       "    </tr>\n",
       "    <tr>\n",
       "      <th>Van Haltren George</th>\n",
       "      <td>204</td>\n",
       "      <td>28</td>\n",
       "      <td>16</td>\n",
       "      <td>2</td>\n",
       "    </tr>\n",
       "    <tr>\n",
       "      <th>Burkett Jesse</th>\n",
       "      <td>221</td>\n",
       "      <td>21</td>\n",
       "      <td>8</td>\n",
       "      <td>7</td>\n",
       "    </tr>\n",
       "    <tr>\n",
       "      <th>Clarke Fred</th>\n",
       "      <td>206</td>\n",
       "      <td>23</td>\n",
       "      <td>9</td>\n",
       "      <td>5</td>\n",
       "    </tr>\n",
       "    <tr>\n",
       "      <th>Delahanty Ed</th>\n",
       "      <td>238</td>\n",
       "      <td>55</td>\n",
       "      <td>9</td>\n",
       "      <td>9</td>\n",
       "    </tr>\n",
       "    <tr>\n",
       "      <th>Stahl Chick</th>\n",
       "      <td>202</td>\n",
       "      <td>23</td>\n",
       "      <td>19</td>\n",
       "      <td>7</td>\n",
       "    </tr>\n",
       "    <tr>\n",
       "      <th>Williams Jimmy</th>\n",
       "      <td>219</td>\n",
       "      <td>28</td>\n",
       "      <td>28</td>\n",
       "      <td>9</td>\n",
       "    </tr>\n",
       "    <tr>\n",
       "      <th>...</th>\n",
       "      <td>...</td>\n",
       "      <td>...</td>\n",
       "      <td>...</td>\n",
       "      <td>...</td>\n",
       "    </tr>\n",
       "    <tr>\n",
       "      <th>Suzuki Ichiro</th>\n",
       "      <td>206</td>\n",
       "      <td>21</td>\n",
       "      <td>12</td>\n",
       "      <td>15</td>\n",
       "    </tr>\n",
       "    <tr>\n",
       "      <th>Young Michael</th>\n",
       "      <td>221</td>\n",
       "      <td>40</td>\n",
       "      <td>5</td>\n",
       "      <td>24</td>\n",
       "    </tr>\n",
       "    <tr>\n",
       "      <th>Jeter Derek</th>\n",
       "      <td>214</td>\n",
       "      <td>39</td>\n",
       "      <td>3</td>\n",
       "      <td>14</td>\n",
       "    </tr>\n",
       "    <tr>\n",
       "      <th>Pierre Juan</th>\n",
       "      <td>204</td>\n",
       "      <td>32</td>\n",
       "      <td>13</td>\n",
       "      <td>3</td>\n",
       "    </tr>\n",
       "    <tr>\n",
       "      <th>Utley Chase</th>\n",
       "      <td>203</td>\n",
       "      <td>40</td>\n",
       "      <td>4</td>\n",
       "      <td>32</td>\n",
       "    </tr>\n",
       "    <tr>\n",
       "      <th>Young Michael</th>\n",
       "      <td>217</td>\n",
       "      <td>52</td>\n",
       "      <td>3</td>\n",
       "      <td>14</td>\n",
       "    </tr>\n",
       "    <tr>\n",
       "      <th>Holliday Matt</th>\n",
       "      <td>216</td>\n",
       "      <td>50</td>\n",
       "      <td>6</td>\n",
       "      <td>36</td>\n",
       "    </tr>\n",
       "    <tr>\n",
       "      <th>Jeter Derek</th>\n",
       "      <td>206</td>\n",
       "      <td>39</td>\n",
       "      <td>4</td>\n",
       "      <td>12</td>\n",
       "    </tr>\n",
       "    <tr>\n",
       "      <th>Ramirez Hanley</th>\n",
       "      <td>212</td>\n",
       "      <td>48</td>\n",
       "      <td>6</td>\n",
       "      <td>29</td>\n",
       "    </tr>\n",
       "    <tr>\n",
       "      <th>Rollins Jimmy</th>\n",
       "      <td>212</td>\n",
       "      <td>38</td>\n",
       "      <td>20</td>\n",
       "      <td>30</td>\n",
       "    </tr>\n",
       "    <tr>\n",
       "      <th>Suzuki Ichiro</th>\n",
       "      <td>238</td>\n",
       "      <td>22</td>\n",
       "      <td>7</td>\n",
       "      <td>6</td>\n",
       "    </tr>\n",
       "    <tr>\n",
       "      <th>Young Michael</th>\n",
       "      <td>201</td>\n",
       "      <td>37</td>\n",
       "      <td>1</td>\n",
       "      <td>9</td>\n",
       "    </tr>\n",
       "    <tr>\n",
       "      <th>Pedroia Dustin</th>\n",
       "      <td>213</td>\n",
       "      <td>54</td>\n",
       "      <td>2</td>\n",
       "      <td>17</td>\n",
       "    </tr>\n",
       "    <tr>\n",
       "      <th>Reyes Jose</th>\n",
       "      <td>204</td>\n",
       "      <td>37</td>\n",
       "      <td>19</td>\n",
       "      <td>16</td>\n",
       "    </tr>\n",
       "    <tr>\n",
       "      <th>Braun Ryan</th>\n",
       "      <td>203</td>\n",
       "      <td>39</td>\n",
       "      <td>6</td>\n",
       "      <td>32</td>\n",
       "    </tr>\n",
       "    <tr>\n",
       "      <th>Cano Robinson</th>\n",
       "      <td>204</td>\n",
       "      <td>48</td>\n",
       "      <td>2</td>\n",
       "      <td>25</td>\n",
       "    </tr>\n",
       "    <tr>\n",
       "      <th>Jeter Derek</th>\n",
       "      <td>212</td>\n",
       "      <td>27</td>\n",
       "      <td>1</td>\n",
       "      <td>18</td>\n",
       "    </tr>\n",
       "    <tr>\n",
       "      <th>Suzuki Ichiro</th>\n",
       "      <td>225</td>\n",
       "      <td>31</td>\n",
       "      <td>4</td>\n",
       "      <td>11</td>\n",
       "    </tr>\n",
       "    <tr>\n",
       "      <th>Suzuki Ichiro</th>\n",
       "      <td>214</td>\n",
       "      <td>30</td>\n",
       "      <td>3</td>\n",
       "      <td>6</td>\n",
       "    </tr>\n",
       "    <tr>\n",
       "      <th>Cabrera Melky</th>\n",
       "      <td>201</td>\n",
       "      <td>44</td>\n",
       "      <td>5</td>\n",
       "      <td>18</td>\n",
       "    </tr>\n",
       "    <tr>\n",
       "      <th>Castro Starlin</th>\n",
       "      <td>207</td>\n",
       "      <td>36</td>\n",
       "      <td>9</td>\n",
       "      <td>10</td>\n",
       "    </tr>\n",
       "    <tr>\n",
       "      <th>Ellsbury Jacoby</th>\n",
       "      <td>212</td>\n",
       "      <td>46</td>\n",
       "      <td>5</td>\n",
       "      <td>32</td>\n",
       "    </tr>\n",
       "    <tr>\n",
       "      <th>Gonzalez Adrian</th>\n",
       "      <td>213</td>\n",
       "      <td>45</td>\n",
       "      <td>3</td>\n",
       "      <td>27</td>\n",
       "    </tr>\n",
       "    <tr>\n",
       "      <th>Young Michael</th>\n",
       "      <td>213</td>\n",
       "      <td>41</td>\n",
       "      <td>6</td>\n",
       "      <td>11</td>\n",
       "    </tr>\n",
       "    <tr>\n",
       "      <th>Altuve Jose</th>\n",
       "      <td>225</td>\n",
       "      <td>47</td>\n",
       "      <td>3</td>\n",
       "      <td>7</td>\n",
       "    </tr>\n",
       "    <tr>\n",
       "      <th>Gordon Dee</th>\n",
       "      <td>205</td>\n",
       "      <td>24</td>\n",
       "      <td>8</td>\n",
       "      <td>4</td>\n",
       "    </tr>\n",
       "    <tr>\n",
       "      <th>Altuve Jose</th>\n",
       "      <td>216</td>\n",
       "      <td>42</td>\n",
       "      <td>5</td>\n",
       "      <td>24</td>\n",
       "    </tr>\n",
       "    <tr>\n",
       "      <th>Betts Mookie</th>\n",
       "      <td>214</td>\n",
       "      <td>42</td>\n",
       "      <td>5</td>\n",
       "      <td>31</td>\n",
       "    </tr>\n",
       "    <tr>\n",
       "      <th>Pedroia Dustin</th>\n",
       "      <td>201</td>\n",
       "      <td>36</td>\n",
       "      <td>1</td>\n",
       "      <td>15</td>\n",
       "    </tr>\n",
       "    <tr>\n",
       "      <th>Segura Jean</th>\n",
       "      <td>203</td>\n",
       "      <td>41</td>\n",
       "      <td>7</td>\n",
       "      <td>20</td>\n",
       "    </tr>\n",
       "  </tbody>\n",
       "</table>\n",
       "<p>445 rows × 4 columns</p>\n",
       "</div>"
      ],
      "text/plain": [
       "                      H  2B  3B  HR\n",
       "playerName                         \n",
       "Browning Pete       220  35  16   4\n",
       "Lyons Denny         209  43  14   6\n",
       "O'Neill Tip         225  52  19  14\n",
       "Thompson Sam        203  29  23  11\n",
       "Glasscock Jack      205  40   3   7\n",
       "Delahanty Ed        219  35  18  19\n",
       "Duffy Hugh          203  23   7   6\n",
       "Thompson Sam        222  37  13  11\n",
       "Brodie Steve        210  25  11   3\n",
       "Cross Lave          204  34   9   7\n",
       "Duffy Hugh          237  51  16  18\n",
       "Hamilton Billy      220  25  15   4\n",
       "Keeler Willie       219  27  22   5\n",
       "Lowe Bobby          212  34  11  17\n",
       "Burkett Jesse       225  22  13   5\n",
       "Hamilton Billy      201  22   6   7\n",
       "Jennings Hughie     204  41   7   4\n",
       "Keeler Willie       213  24  15   4\n",
       "Thompson Sam        211  45  21  18\n",
       "Burkett Jesse       240  27  16   6\n",
       "Jennings Hughie     209  27   9   0\n",
       "Keeler Willie       210  22  13   4\n",
       "Clarke Fred         202  30  13   6\n",
       "Keeler Willie       239  27  19   0\n",
       "Van Haltren George  204  28  16   2\n",
       "Burkett Jesse       221  21   8   7\n",
       "Clarke Fred         206  23   9   5\n",
       "Delahanty Ed        238  55   9   9\n",
       "Stahl Chick         202  23  19   7\n",
       "Williams Jimmy      219  28  28   9\n",
       "...                 ...  ..  ..  ..\n",
       "Suzuki Ichiro       206  21  12  15\n",
       "Young Michael       221  40   5  24\n",
       "Jeter Derek         214  39   3  14\n",
       "Pierre Juan         204  32  13   3\n",
       "Utley Chase         203  40   4  32\n",
       "Young Michael       217  52   3  14\n",
       "Holliday Matt       216  50   6  36\n",
       "Jeter Derek         206  39   4  12\n",
       "Ramirez Hanley      212  48   6  29\n",
       "Rollins Jimmy       212  38  20  30\n",
       "Suzuki Ichiro       238  22   7   6\n",
       "Young Michael       201  37   1   9\n",
       "Pedroia Dustin      213  54   2  17\n",
       "Reyes Jose          204  37  19  16\n",
       "Braun Ryan          203  39   6  32\n",
       "Cano Robinson       204  48   2  25\n",
       "Jeter Derek         212  27   1  18\n",
       "Suzuki Ichiro       225  31   4  11\n",
       "Suzuki Ichiro       214  30   3   6\n",
       "Cabrera Melky       201  44   5  18\n",
       "Castro Starlin      207  36   9  10\n",
       "Ellsbury Jacoby     212  46   5  32\n",
       "Gonzalez Adrian     213  45   3  27\n",
       "Young Michael       213  41   6  11\n",
       "Altuve Jose         225  47   3   7\n",
       "Gordon Dee          205  24   8   4\n",
       "Altuve Jose         216  42   5  24\n",
       "Betts Mookie        214  42   5  31\n",
       "Pedroia Dustin      201  36   1  15\n",
       "Segura Jean         203  41   7  20\n",
       "\n",
       "[445 rows x 4 columns]"
      ]
     },
     "execution_count": 11,
     "metadata": {},
     "output_type": "execute_result"
    }
   ],
   "source": [
    "x = batting[(batting['H']>200)&(batting['2B']>20)&(batting['3B']>5&(batting['HR']>20))][['playerName', 'H', '2B', '3B', 'HR']].set_index('playerName')\n",
    "print(\"Count of such players is: \" + str(len(x)) + \" and the stats are as below\" )\n",
    "x"
   ]
  },
  {
   "cell_type": "markdown",
   "metadata": {},
   "source": [
    "### Who had the highest batting average in 2009?  Required: Player, Average, and HRs for that player.  \n",
    "### Hint:  Batting Average is H/AB"
   ]
  },
  {
   "cell_type": "code",
   "execution_count": 12,
   "metadata": {
    "collapsed": true
   },
   "outputs": [],
   "source": [
    "batting['average'] = batting['H']/batting['AB']"
   ]
  },
  {
   "cell_type": "markdown",
   "metadata": {},
   "source": [
    "### What was the average amount of HRs for all players in 1975 who had 200 or more ABs?"
   ]
  },
  {
   "cell_type": "code",
   "execution_count": 13,
   "metadata": {},
   "outputs": [
    {
     "data": {
      "text/plain": [
       "9.4724409448818889"
      ]
     },
     "execution_count": 13,
     "metadata": {},
     "output_type": "execute_result"
    }
   ],
   "source": [
    "batting[(batting['AB']>=200)&(batting['yearID']==1975)].mean()['HR']"
   ]
  },
  {
   "cell_type": "markdown",
   "metadata": {},
   "source": [
    "### Same question as above but for players in 1987 with 400 or more ABs?"
   ]
  },
  {
   "cell_type": "code",
   "execution_count": 14,
   "metadata": {},
   "outputs": [
    {
     "data": {
      "text/plain": [
       "19.006410256410255"
      ]
     },
     "execution_count": 14,
     "metadata": {},
     "output_type": "execute_result"
    }
   ],
   "source": [
    "batting[(batting['AB']>=400)&(batting['yearID']==1987)].mean()['HR']"
   ]
  },
  {
   "cell_type": "markdown",
   "metadata": {},
   "source": [
    "### In 1984, who had the top 5 highest batting averages?"
   ]
  },
  {
   "cell_type": "code",
   "execution_count": 15,
   "metadata": {},
   "outputs": [
    {
     "name": "stdout",
     "output_type": "stream",
     "text": [
      "['Quirk Jamie' 'Von Ohlen Dave' 'Forster Terry' 'Smith Zane' 'Laga Mike']\n"
     ]
    }
   ],
   "source": [
    "print(batting[batting['yearID'] == 1984].nlargest(5,'average')['playerName'].values)"
   ]
  },
  {
   "cell_type": "markdown",
   "metadata": {},
   "source": [
    "### In 1963, who had the 5 lowest batting averages for players with 400 or more ABs?"
   ]
  },
  {
   "cell_type": "code",
   "execution_count": 16,
   "metadata": {},
   "outputs": [
    {
     "name": "stdout",
     "output_type": "stream",
     "text": [
      "['Lillis Bob' 'Goss Howie' 'Bateman John' 'Aspromonte Bob' 'Wine Bobby']\n"
     ]
    }
   ],
   "source": [
    "print(batting[(batting['AB']>=400)&(batting['yearID']==1963)].nsmallest(5,'average')['playerName'].values)"
   ]
  },
  {
   "cell_type": "markdown",
   "metadata": {},
   "source": [
    "### Which years had the most 2Bs?  Top 5"
   ]
  },
  {
   "cell_type": "code",
   "execution_count": 17,
   "metadata": {},
   "outputs": [
    {
     "name": "stdout",
     "output_type": "stream",
     "text": [
      "['Webb Earl' 'Burns George' 'Medwick Joe' 'Greenberg Hank' 'Waner Paul']\n"
     ]
    }
   ],
   "source": [
    "print(batting.nlargest(5,'2B')['playerName'].values)"
   ]
  },
  {
   "cell_type": "markdown",
   "metadata": {},
   "source": [
    "### Who has the most 3Bs for their career?"
   ]
  },
  {
   "cell_type": "code",
   "execution_count": 19,
   "metadata": {},
   "outputs": [
    {
     "data": {
      "text/plain": [
       "'Crawford Sam'"
      ]
     },
     "execution_count": 19,
     "metadata": {},
     "output_type": "execute_result"
    }
   ],
   "source": [
    "x = batting.set_index('playerID').groupby(level=0).sum().nlargest(1,'3B').index[0]\n",
    "batting[batting['playerID']==x]['playerName'][7606]"
   ]
  },
  {
   "cell_type": "markdown",
   "metadata": {},
   "source": [
    "### Who had the most HRs in their 20s (Aged 29 or less)?"
   ]
  },
  {
   "cell_type": "code",
   "execution_count": 20,
   "metadata": {},
   "outputs": [
    {
     "name": "stdout",
     "output_type": "stream",
     "text": [
      "['Maris Roger']\n"
     ]
    }
   ],
   "source": [
    "batting['age'] = batting['yearID'] - batting['birthYear']\n",
    "print(batting[(batting['age']>=20)&(batting['age']<=29)].nlargest(1,'HR')['playerName'].values)"
   ]
  },
  {
   "cell_type": "markdown",
   "metadata": {},
   "source": [
    "### Who had the most 2Bs, 3Bs, and HRs combined in one season?"
   ]
  },
  {
   "cell_type": "code",
   "execution_count": 21,
   "metadata": {},
   "outputs": [
    {
     "name": "stdout",
     "output_type": "stream",
     "text": [
      "['Ruth Babe']\n"
     ]
    }
   ],
   "source": [
    "print(batting[batting[['2B','3B','HR']].sum(axis=1) == batting[['2B','3B','HR']].sum(axis=1).max()]['playerName'].values)"
   ]
  },
  {
   "cell_type": "markdown",
   "metadata": {},
   "source": [
    "### Which team has had the most players with 100 or more RBIs in a season?"
   ]
  },
  {
   "cell_type": "code",
   "execution_count": 22,
   "metadata": {},
   "outputs": [
    {
     "data": {
      "text/plain": [
       "'BLN'"
      ]
     },
     "execution_count": 22,
     "metadata": {},
     "output_type": "execute_result"
    }
   ],
   "source": [
    "batting[batting['RBI']>=100].groupby(['teamID','yearID'])['playerID'].count().argmax()[0]"
   ]
  },
  {
   "cell_type": "markdown",
   "metadata": {},
   "source": [
    "### How many players have played 100 or more games from 1900 on?"
   ]
  },
  {
   "cell_type": "code",
   "execution_count": 23,
   "metadata": {},
   "outputs": [
    {
     "data": {
      "text/plain": [
       "8067"
      ]
     },
     "execution_count": 23,
     "metadata": {},
     "output_type": "execute_result"
    }
   ],
   "source": [
    "sum(batting[batting['yearID']>=1900].groupby('playerID').sum()['G']>100)"
   ]
  },
  {
   "cell_type": "markdown",
   "metadata": {},
   "source": [
    "### Who scored the most runs in 1938?"
   ]
  },
  {
   "cell_type": "code",
   "execution_count": 24,
   "metadata": {},
   "outputs": [
    {
     "data": {
      "text/plain": [
       "'Foxx Jimmie'"
      ]
     },
     "execution_count": 24,
     "metadata": {},
     "output_type": "execute_result"
    }
   ],
   "source": [
    "batting[batting['yearID']==1938].groupby(['playerID','playerName'])['RBI'].sum().argmax()[1]"
   ]
  },
  {
   "cell_type": "markdown",
   "metadata": {},
   "source": [
    "### In 2012 did anyone have at least 20 2Bs, 10 3Bs, 10 HRs, and 10 SBs?  If so, who were they?"
   ]
  },
  {
   "cell_type": "code",
   "execution_count": 25,
   "metadata": {},
   "outputs": [
    {
     "name": "stdout",
     "output_type": "stream",
     "text": [
      "['Cabrera Melky' 'Castro Starlin' 'Jackson Austin' 'Reyes Jose']\n"
     ]
    }
   ],
   "source": [
    "'No' if len(batting[(batting['2B']>=20)&(batting['3B']>=10)&(batting['HR']>=10)&(batting['SB']>=10)&(batting['yearID']==2012)])==0 else print(batting[(batting['2B']>=20)&(batting['3B']>=10)&(batting['HR']>=10)&(batting['SB']>=10)&(batting['yearID']==2012)]['playerName'].values)"
   ]
  },
  {
   "cell_type": "markdown",
   "metadata": {},
   "source": [
    "### Create a column that calculates OBP (on base percentage)\n",
    "### Formula: OBP = (Hits + Walks + Hit by Pitch) / (At Bats + Walks + Hit by Pitch + Sacrifice Flies + Sacrifice Hits)."
   ]
  },
  {
   "cell_type": "code",
   "execution_count": 26,
   "metadata": {},
   "outputs": [
    {
     "name": "stderr",
     "output_type": "stream",
     "text": [
      "C:\\ProgramData\\Anaconda3\\lib\\site-packages\\ipykernel_launcher.py:1: RuntimeWarning: invalid value encountered in true_divide\n",
      "  \"\"\"Entry point for launching an IPython kernel.\n"
     ]
    }
   ],
   "source": [
    "batting['OBP'] = np.divide(np.sum(batting[['H','BB','HBP']], axis=1), np.sum(batting[['AB','BB','HBP','SF','SH']], axis=1))"
   ]
  },
  {
   "cell_type": "markdown",
   "metadata": {},
   "source": [
    "### For all players with 500 or more ABs which players had the top 5 OBPs in 2016?"
   ]
  },
  {
   "cell_type": "code",
   "execution_count": 85,
   "metadata": {
    "scrolled": true
   },
   "outputs": [
    {
     "name": "stdout",
     "output_type": "stream",
     "text": [
      "['Trout Mike' 'Votto Joey' 'LeMahieu DJ' 'Goldschmidt Paul'\n",
      " 'Donaldson Josh']\n"
     ]
    }
   ],
   "source": [
    "print(batting[(batting['AB']>=500)&(batting['yearID']==2016)].nlargest(5,'OBP')['playerName'].values)"
   ]
  },
  {
   "cell_type": "markdown",
   "metadata": {},
   "source": [
    "### Who had the highest OBP of all time?  Required: Player has to have had at least 500 ABs and 30 HRs.  Top 5."
   ]
  },
  {
   "cell_type": "code",
   "execution_count": 35,
   "metadata": {},
   "outputs": [
    {
     "name": "stdout",
     "output_type": "stream",
     "text": [
      "['Bonds Barry' 'Bonds Barry' 'Williams Ted' 'Ruth Babe' 'Bonds Barry']\n"
     ]
    }
   ],
   "source": [
    "print(batting[(batting['AB']>=500)|(batting['HR']>=30)].nlargest(5,'OBP')['playerName'].values)"
   ]
  },
  {
   "cell_type": "markdown",
   "metadata": {},
   "source": [
    "### Bonus: I would like a barchart depicting the total amount of HRs by year"
   ]
  },
  {
   "cell_type": "code",
   "execution_count": 71,
   "metadata": {
    "collapsed": true
   },
   "outputs": [],
   "source": [
    "data = batting.groupby('yearID')['HR'].sum()"
   ]
  },
  {
   "cell_type": "code",
   "execution_count": 70,
   "metadata": {},
   "outputs": [
    {
     "data": {
      "image/png": "[encoded data removed]",
      "text/plain": [
       "<matplotlib.figure.Figure at 0x2822fc7b860>"
      ]
     },
     "execution_count": 70,
     "metadata": {},
     "output_type": "execute_result"
    }
   ],
   "source": [
    "fig, ax = plt.subplots(figsize=(20,7))\n",
    "data.plot.bar()\n",
    "ax.set_title('Total HRs by year', fontsize=20)\n",
    "ax.set_xlabel('Year', fontsize=15)\n",
    "ax.set_ylabel('Total HR', fontsize=15 );\n",
    "ax.set_facecolor('white');\n",
    "ax.grid(color='black', linestyle='-.', linewidth=.1);\n",
    "fig"
   ]
  },
  {
   "cell_type": "code",
   "execution_count": null,
   "metadata": {
    "collapsed": true
   },
   "outputs": [],
   "source": [
    "fig, ax = plt.plot"
   ]
  },
  {
   "cell_type": "markdown",
   "metadata": {},
   "source": [
    "### Bonus #2: I would like a line graph depicting the total amount of Ks per year"
   ]
  },
  {
   "cell_type": "code",
   "execution_count": 72,
   "metadata": {},
   "outputs": [
    {
     "data": {
      "text/plain": [
       "Index(['playerID', 'nameLast', 'nameFirst', 'birthYear', 'yearID', 'stint',\n",
       "       'teamID', 'lgID', 'G', 'AB', 'R', 'H', '2B', '3B', 'HR', 'RBI', 'SB',\n",
       "       'CS', 'BB', 'SO', 'IBB', 'HBP', 'SH', 'SF', 'GIDP', 'playerName',\n",
       "       'average', 'age', 'OBP'],\n",
       "      dtype='object')"
      ]
     },
     "execution_count": 72,
     "metadata": {},
     "output_type": "execute_result"
    }
   ],
   "source": [
    "batting.columns"
   ]
  },
  {
   "cell_type": "code",
   "execution_count": 76,
   "metadata": {
    "collapsed": true
   },
   "outputs": [],
   "source": [
    "data = batting.groupby('yearID')['SO'].sum()"
   ]
  },
  {
   "cell_type": "code",
   "execution_count": 78,
   "metadata": {},
   "outputs": [
    {
     "name": "stderr",
     "output_type": "stream",
     "text": [
      "C:\\ProgramData\\Anaconda3\\lib\\site-packages\\matplotlib\\pyplot.py:524: RuntimeWarning: More than 20 figures have been opened. Figures created through the pyplot interface (`matplotlib.pyplot.figure`) are retained until explicitly closed and may consume too much memory. (To control this warning, see the rcParam `figure.max_open_warning`).\n",
      "  max_open_warning, RuntimeWarning)\n"
     ]
    },
    {
     "data": {
      "image/png": "[encoded data removed]",
      "text/plain": [
       "<matplotlib.figure.Figure at 0x28230022a90>"
      ]
     },
     "execution_count": 78,
     "metadata": {},
     "output_type": "execute_result"
    }
   ],
   "source": [
    "fig, ax = plt.subplots(figsize=(20,7));\n",
    "data.plot.line();\n",
    "ax.set_title('Total HRs by year', fontsize=20);\n",
    "ax.set_xlabel('Year', fontsize=15);\n",
    "ax.set_ylabel('Total HR', fontsize=15 );\n",
    "ax.set_facecolor('white');\n",
    "ax.grid(color='black', linestyle='-.', linewidth=.1);\n",
    "fig"
   ]
  },
  {
   "cell_type": "code",
   "execution_count": null,
   "metadata": {
    "collapsed": true
   },
   "outputs": [],
   "source": []
  }
 ],
 "metadata": {
  "kernelspec": {
   "display_name": "Python 3",
   "language": "python",
   "name": "python3"
  },
  "language_info": {
   "codemirror_mode": {
    "name": "ipython",
    "version": 3
   },
   "file_extension": ".py",
   "mimetype": "text/x-python",
   "name": "python",
   "nbconvert_exporter": "python",
   "pygments_lexer": "ipython3",
   "version": "3.6.1"
  }
 },
 "nbformat": 4,
 "nbformat_minor": 2
}
